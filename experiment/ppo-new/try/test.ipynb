{
 "cells": [
  {
   "cell_type": "code",
   "execution_count": 1,
   "metadata": {},
   "outputs": [
    {
     "name": "stderr",
     "output_type": "stream",
     "text": [
      "/home/jinjun/miniconda3/envs/quartz/lib/python3.10/site-packages/tqdm/auto.py:22: TqdmWarning: IProgress not found. Please update jupyter and ipywidgets. See https://ipywidgets.readthedocs.io/en/stable/user_install.html\n",
      "  from .autonotebook import tqdm as notebook_tqdm\n"
     ]
    }
   ],
   "source": [
    "import torch\n",
    "import torch.nn as nn\n",
    "import copy\n",
    "from icecream import ic"
   ]
  },
  {
   "cell_type": "code",
   "execution_count": 6,
   "metadata": {},
   "outputs": [
    {
     "name": "stderr",
     "output_type": "stream",
     "text": [
      "ic| fields(Test): (Field(name='a',type='Sequence[int]',default=<dataclasses._MISSING_TYPE object at 0x7f5510ed27d0>,default_factory=<dataclasses._MISSING_TYPE object at 0x7f5510ed27d0>,init=True,repr=True,hash=None,compare=True,metadata=mappingproxy({}),kw_only=False,_field_type=_FIELD),\n",
      "                   Field(name='b',type='Sequence[float]',default=<dataclasses._MISSING_TYPE object at 0x7f5510ed27d0>,default_factory=<dataclasses._MISSING_TYPE object at 0x7f5510ed27d0>,init=True,repr=True,hash=None,compare=True,metadata=mappingproxy({}),kw_only=False,_field_type=_FIELD))\n",
      "ic| fields(ChildTest): (Field(name='a',type='Sequence[int]',default=<dataclasses._MISSING_TYPE object at 0x7f5510ed27d0>,default_factory=<dataclasses._MISSING_TYPE object at 0x7f5510ed27d0>,init=True,repr=True,hash=None,compare=True,metadata=mappingproxy({}),kw_only=False,_field_type=_FIELD),\n",
      "                        Field(name='b',type='Sequence[float]',default=<dataclasses._MISSING_TYPE object at 0x7f5510ed27d0>,default_factory=<dataclasses._MISSING_TYPE object at 0x7f5510ed27d0>,init=True,repr=True,hash=None,compare=True,metadata=mappingproxy({}),kw_only=False,_field_type=_FIELD),\n",
      "                        Field(name='child',type='str',default=<dataclasses._MISSING_TYPE object at 0x7f5510ed27d0>,default_factory=<dataclasses._MISSING_TYPE object at 0x7f5510ed27d0>,init=True,repr=True,hash=None,compare=True,metadata=mappingproxy({}),kw_only=False,_field_type=_FIELD))\n"
     ]
    }
   ],
   "source": [
    "from __future__ import annotations\n",
    "from dataclasses import dataclass, fields\n",
    "from typing import Callable, Iterable, Iterator, Optional, Tuple, List, Any, Sequence\n",
    "\n",
    "@dataclass\n",
    "class Test:\n",
    "    a: Sequence[int]\n",
    "    b: Sequence[float]\n",
    "    \n",
    "    def pop(self, size) -> Test:\n",
    "        \n",
    "        ret = Test(self.a[:size], self.b[:size])\n",
    "        \n",
    "        for field in fields(self):\n",
    "            setattr(self, field.name, getattr(self, field.name)[size:])\n",
    "    \n",
    "        return ret\n",
    "    \n",
    "    def __len__(self):\n",
    "        return len(self.a)\n",
    "    \n",
    "    def __add__(self, other):\n",
    "        ret = Test(None, None)\n",
    "        for field in fields(self):\n",
    "            setattr(ret, field.name, getattr(self, field.name) + getattr(other, field.name))\n",
    "        return ret\n",
    "\n",
    "    def __iadd__(self, other):\n",
    "        for field in fields(self):\n",
    "            setattr(self, field.name, getattr(self, field.name).__iadd__(getattr(other, field.name)))\n",
    "        return self\n",
    "\n",
    "    def __iter__(self) -> Iterator:\n",
    "        return iter([\n",
    "            getattr(self, field.name)\n",
    "            for field in fields(self)\n",
    "        ])\n",
    "\n",
    "@dataclass\n",
    "class ChildTest(Test):\n",
    "    child: str\n",
    "    \n",
    "ic(fields(Test))\n",
    "ic(fields(ChildTest))\n",
    "\n",
    "class TestIterator:\n",
    "\n",
    "    def __init__(self, src, size = 1):\n",
    "        self.src = src\n",
    "        self.size = size\n",
    "    \n",
    "    def __iter__(self):\n",
    "        return self\n",
    "\n",
    "    def __next__(self):\n",
    "        ret = self.src.pop(self.size)\n",
    "        if len(ret) > 0:\n",
    "            return ret\n",
    "        else:\n",
    "            raise StopIteration\n",
    "\n",
    "t1 = Test(\n",
    "    a=[i for i in range(10)],\n",
    "    b=[i / 10 for i in range(10)],\n",
    ")\n",
    "t2 = Test(\n",
    "    a=[i for i in range(10, 20)],\n",
    "    b=[i / 10 for i in range(10, 20)],\n",
    ")"
   ]
  },
  {
   "cell_type": "code",
   "execution_count": 21,
   "metadata": {},
   "outputs": [
    {
     "data": {
      "text/plain": [
       "Test(a=[0, 1, 2, 3, 4, 5, 6, 7, 8, 9, 10, 11, 12, 13, 14, 15, 16, 17, 18, 19], b=[0.0, 0.1, 0.2, 0.3, 0.4, 0.5, 0.6, 0.7, 0.8, 0.9, 1.0, 1.1, 1.2, 1.3, 1.4, 1.5, 1.6, 1.7, 1.8, 1.9])"
      ]
     },
     "execution_count": 21,
     "metadata": {},
     "output_type": "execute_result"
    }
   ],
   "source": [
    "t1 += t2\n",
    "t1\n"
   ]
  },
  {
   "cell_type": "code",
   "execution_count": 23,
   "metadata": {},
   "outputs": [
    {
     "data": {
      "text/plain": [
       "Test(a=[0, 1, 2, 3, 4, 5, 6, 7, 8, 9, 10, 11, 12, 13, 14, 15, 16, 17, 18, 19], b=[0.0, 0.1, 0.2, 0.3, 0.4, 0.5, 0.6, 0.7, 0.8, 0.9, 1.0, 1.1, 1.2, 1.3, 1.4, 1.5, 1.6, 1.7, 1.8, 1.9])"
      ]
     },
     "execution_count": 23,
     "metadata": {},
     "output_type": "execute_result"
    }
   ],
   "source": [
    "t1"
   ]
  },
  {
   "cell_type": "code",
   "execution_count": 29,
   "metadata": {},
   "outputs": [
    {
     "data": {
      "text/plain": [
       "Test(a=[0, 1, 2, 3, 4], b=[0.5, 1.5, 2.5, 3.5, 4.5])"
      ]
     },
     "execution_count": 29,
     "metadata": {},
     "output_type": "execute_result"
    }
   ],
   "source": [
    "list_test = [ Test(i, i + 0.5) for i in range(5) ]\n",
    "a = list(map(list, zip(*list_test)))\n",
    "t = Test(*list(map(list, zip(*list_test))))\n",
    "t"
   ]
  },
  {
   "cell_type": "code",
   "execution_count": 39,
   "metadata": {},
   "outputs": [
    {
     "name": "stdout",
     "output_type": "stream",
     "text": [
      "[0, 1, 2, 3, 4, 5]\n",
      "[2, 3, 4, 5]\n",
      "mean: 2.5\n",
      "{0: '0', 1: '1', 2: '2', 3: '3', 4: '4', 5: '5', 6: '6', 7: '7', 8: '8', 9: '9'}\n"
     ]
    }
   ],
   "source": [
    "a = [0,1,2,3,4,5]\n",
    "b = a\n",
    "b = b[2:]\n",
    "print(a)\n",
    "print(b)\n",
    "print(f'mean: {torch.Tensor(a).mean().item()}')\n",
    "b[slice(4,5)]\n",
    "d1 = {i: str(i) for i in range(5)}\n",
    "d2 = {i: str(i) for i in range(5, 10)}\n",
    "print({**d1, **d2})"
   ]
  },
  {
   "cell_type": "code",
   "execution_count": 78,
   "metadata": {},
   "outputs": [],
   "source": [
    "m1 = torch.load('outputs/2022-06-21/13-20-32/0.pt')\n",
    "m3 = torch.load('outputs/2022-06-21/14-18-27/11.pt')\n",
    "m2 = torch.load('outputs/2022-06-21/14-18-27/iter_2.pt')['model_state_dict']\n"
   ]
  },
  {
   "cell_type": "code",
   "execution_count": 43,
   "metadata": {},
   "outputs": [
    {
     "data": {
      "text/plain": [
       "odict_keys(['graph_embedding.embedding.weight', 'graph_embedding.conv_0.linear2.weight', 'graph_embedding.conv_0.linear2.bias', 'graph_embedding.conv_0.linear1.weight', 'graph_embedding.convs.0.linear2.weight', 'graph_embedding.convs.0.linear2.bias', 'graph_embedding.convs.0.linear1.weight', 'graph_embedding.convs.1.linear2.weight', 'graph_embedding.convs.1.linear2.bias', 'graph_embedding.convs.1.linear1.weight', 'graph_embedding.convs.2.linear2.weight', 'graph_embedding.convs.2.linear2.bias', 'graph_embedding.convs.2.linear1.weight', 'graph_embedding.convs.3.linear2.weight', 'graph_embedding.convs.3.linear2.bias', 'graph_embedding.convs.3.linear1.weight', 'graph_embedding.convs.4.linear2.weight', 'graph_embedding.convs.4.linear2.bias', 'graph_embedding.convs.4.linear1.weight', 'actor.0.weight', 'actor.0.bias', 'actor.2.weight', 'actor.2.bias', 'critic.0.weight', 'critic.0.bias', 'critic.2.weight', 'critic.2.bias'])"
      ]
     },
     "execution_count": 43,
     "metadata": {},
     "output_type": "execute_result"
    }
   ],
   "source": [
    "m1.keys()"
   ]
  },
  {
   "cell_type": "code",
   "execution_count": 79,
   "metadata": {},
   "outputs": [
    {
     "data": {
      "text/plain": [
       "tensor([[True, True, True, True, True, True, True, True, True, True, True, True,\n",
       "         True, True, True, True, True, True, True, True, True, True, True, True,\n",
       "         True, True, True, True, True],\n",
       "        [True, True, True, True, True, True, True, True, True, True, True, True,\n",
       "         True, True, True, True, True, True, True, True, True, True, True, True,\n",
       "         True, True, True, True, True],\n",
       "        [True, True, True, True, True, True, True, True, True, True, True, True,\n",
       "         True, True, True, True, True, True, True, True, True, True, True, True,\n",
       "         True, True, True, True, True],\n",
       "        [True, True, True, True, True, True, True, True, True, True, True, True,\n",
       "         True, True, True, True, True, True, True, True, True, True, True, True,\n",
       "         True, True, True, True, True],\n",
       "        [True, True, True, True, True, True, True, True, True, True, True, True,\n",
       "         True, True, True, True, True, True, True, True, True, True, True, True,\n",
       "         True, True, True, True, True],\n",
       "        [True, True, True, True, True, True, True, True, True, True, True, True,\n",
       "         True, True, True, True, True, True, True, True, True, True, True, True,\n",
       "         True, True, True, True, True],\n",
       "        [True, True, True, True, True, True, True, True, True, True, True, True,\n",
       "         True, True, True, True, True, True, True, True, True, True, True, True,\n",
       "         True, True, True, True, True],\n",
       "        [True, True, True, True, True, True, True, True, True, True, True, True,\n",
       "         True, True, True, True, True, True, True, True, True, True, True, True,\n",
       "         True, True, True, True, True],\n",
       "        [True, True, True, True, True, True, True, True, True, True, True, True,\n",
       "         True, True, True, True, True, True, True, True, True, True, True, True,\n",
       "         True, True, True, True, True],\n",
       "        [True, True, True, True, True, True, True, True, True, True, True, True,\n",
       "         True, True, True, True, True, True, True, True, True, True, True, True,\n",
       "         True, True, True, True, True],\n",
       "        [True, True, True, True, True, True, True, True, True, True, True, True,\n",
       "         True, True, True, True, True, True, True, True, True, True, True, True,\n",
       "         True, True, True, True, True],\n",
       "        [True, True, True, True, True, True, True, True, True, True, True, True,\n",
       "         True, True, True, True, True, True, True, True, True, True, True, True,\n",
       "         True, True, True, True, True],\n",
       "        [True, True, True, True, True, True, True, True, True, True, True, True,\n",
       "         True, True, True, True, True, True, True, True, True, True, True, True,\n",
       "         True, True, True, True, True],\n",
       "        [True, True, True, True, True, True, True, True, True, True, True, True,\n",
       "         True, True, True, True, True, True, True, True, True, True, True, True,\n",
       "         True, True, True, True, True],\n",
       "        [True, True, True, True, True, True, True, True, True, True, True, True,\n",
       "         True, True, True, True, True, True, True, True, True, True, True, True,\n",
       "         True, True, True, True, True],\n",
       "        [True, True, True, True, True, True, True, True, True, True, True, True,\n",
       "         True, True, True, True, True, True, True, True, True, True, True, True,\n",
       "         True, True, True, True, True],\n",
       "        [True, True, True, True, True, True, True, True, True, True, True, True,\n",
       "         True, True, True, True, True, True, True, True, True, True, True, True,\n",
       "         True, True, True, True, True],\n",
       "        [True, True, True, True, True, True, True, True, True, True, True, True,\n",
       "         True, True, True, True, True, True, True, True, True, True, True, True,\n",
       "         True, True, True, True, True],\n",
       "        [True, True, True, True, True, True, True, True, True, True, True, True,\n",
       "         True, True, True, True, True, True, True, True, True, True, True, True,\n",
       "         True, True, True, True, True],\n",
       "        [True, True, True, True, True, True, True, True, True, True, True, True,\n",
       "         True, True, True, True, True, True, True, True, True, True, True, True,\n",
       "         True, True, True, True, True],\n",
       "        [True, True, True, True, True, True, True, True, True, True, True, True,\n",
       "         True, True, True, True, True, True, True, True, True, True, True, True,\n",
       "         True, True, True, True, True],\n",
       "        [True, True, True, True, True, True, True, True, True, True, True, True,\n",
       "         True, True, True, True, True, True, True, True, True, True, True, True,\n",
       "         True, True, True, True, True],\n",
       "        [True, True, True, True, True, True, True, True, True, True, True, True,\n",
       "         True, True, True, True, True, True, True, True, True, True, True, True,\n",
       "         True, True, True, True, True],\n",
       "        [True, True, True, True, True, True, True, True, True, True, True, True,\n",
       "         True, True, True, True, True, True, True, True, True, True, True, True,\n",
       "         True, True, True, True, True],\n",
       "        [True, True, True, True, True, True, True, True, True, True, True, True,\n",
       "         True, True, True, True, True, True, True, True, True, True, True, True,\n",
       "         True, True, True, True, True],\n",
       "        [True, True, True, True, True, True, True, True, True, True, True, True,\n",
       "         True, True, True, True, True, True, True, True, True, True, True, True,\n",
       "         True, True, True, True, True],\n",
       "        [True, True, True, True, True, True, True, True, True, True, True, True,\n",
       "         True, True, True, True, True, True, True, True, True, True, True, True,\n",
       "         True, True, True, True, True],\n",
       "        [True, True, True, True, True, True, True, True, True, True, True, True,\n",
       "         True, True, True, True, True, True, True, True, True, True, True, True,\n",
       "         True, True, True, True, True],\n",
       "        [True, True, True, True, True, True, True, True, True, True, True, True,\n",
       "         True, True, True, True, True, True, True, True, True, True, True, True,\n",
       "         True, True, True, True, True]], device='cuda:0')"
      ]
     },
     "execution_count": 79,
     "metadata": {},
     "output_type": "execute_result"
    }
   ],
   "source": [
    "key = 'graph_embedding.embedding.weight'\n",
    "m3[key] == m2[key]"
   ]
  },
  {
   "cell_type": "code",
   "execution_count": 82,
   "metadata": {},
   "outputs": [
    {
     "data": {
      "text/plain": [
       "torch.Size([2, 10, 5])"
      ]
     },
     "execution_count": 82,
     "metadata": {},
     "output_type": "execute_result"
    }
   ],
   "source": [
    "x = torch.rand(10, 5)\n",
    "torch.stack([x, x]).shape"
   ]
  },
  {
   "cell_type": "code",
   "execution_count": 2,
   "metadata": {},
   "outputs": [
    {
     "data": {
      "text/plain": [
       "'A'"
      ]
     },
     "execution_count": 2,
     "metadata": {},
     "output_type": "execute_result"
    }
   ],
   "source": [
    "class A:\n",
    "    def __init__(self):\n",
    "        pass\n",
    "    \n",
    "    @staticmethod\n",
    "    def name() -> str:\n",
    "        return 'A'\n",
    "\n",
    "a = A()\n",
    "A.name()"
   ]
  }
 ],
 "metadata": {
  "kernelspec": {
   "display_name": "Python 3.10.4 ('quartz')",
   "language": "python",
   "name": "python3"
  },
  "language_info": {
   "codemirror_mode": {
    "name": "ipython",
    "version": 3
   },
   "file_extension": ".py",
   "mimetype": "text/x-python",
   "name": "python",
   "nbconvert_exporter": "python",
   "pygments_lexer": "ipython3",
   "version": "3.10.4"
  },
  "orig_nbformat": 4,
  "vscode": {
   "interpreter": {
    "hash": "727000391658140de014f09a2cefd280fa828086dc8cb8d0493b0ec43fb35302"
   }
  }
 },
 "nbformat": 4,
 "nbformat_minor": 2
}
